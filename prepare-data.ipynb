{
 "cells": [
  {
   "cell_type": "code",
   "execution_count": 3,
   "metadata": {},
   "outputs": [
    {
     "name": "stderr",
     "output_type": "stream",
     "text": [
      "Using TensorFlow backend.\n"
     ]
    }
   ],
   "source": [
    "import keras\n",
    "import cv2\n",
    "import os\n",
    "import skvideo.io  "
   ]
  },
  {
   "cell_type": "code",
   "execution_count": 5,
   "metadata": {},
   "outputs": [],
   "source": [
    "# Load saliency and motion videos and split them into chunks\n",
    "\n",
    "split = 5 # split the video every five seconds\n",
    "path = '../'"
   ]
  },
  {
   "cell_type": "code",
   "execution_count": 31,
   "metadata": {},
   "outputs": [],
   "source": [
    "def splitVideo(videos, split, tp):\n",
    "    newdir = path+'datasets/content/'+tp+'splitby-'+str(split)+'-seconds'\n",
    "    if os.path.exists(newdir):\n",
    "        os.system('rm -rf '+newdir)\n",
    "    os.makedirs(newdir)\n",
    "    for video in videos:\n",
    "        command = 'ffmpeg -i ../datasets/content/'+tp+'/'+video+' -reset_timestamps 1 -map 0 -segment_time '+str(split)+' -f segment '+newdir+'/'+video[:-4]+'%03d.mp4'\n",
    "        os.system(command)"
   ]
  },
  {
   "cell_type": "code",
   "execution_count": 32,
   "metadata": {},
   "outputs": [
    {
     "name": "stdout",
     "output_type": "stream",
     "text": [
      "['diving_saliency.mp4', 'ride_saliency.mp4', 'pacman_saliency.mp4', 'panel_saliency.mp4', 'coaster2_saliency.mp4', 'coaster_saliency.mp4', 'landscape_saliency.mp4', 'sport_saliency.mp4', 'game_saliency.mp4', 'drive_saliency.mp4']\n"
     ]
    }
   ],
   "source": [
    "saliVideos = os.listdir(path+'datasets/content/saliency/')\n",
    "motionVideos = os.listdir(path+'datasets/content/motion/')\n",
    "\n",
    "splitVideo(saliVideos, split, 'saliency')\n",
    "splitVideo(motionVideos, split, 'motion')"
   ]
  },
  {
   "cell_type": "code",
   "execution_count": null,
   "metadata": {},
   "outputs": [],
   "source": [
    "# make videos numpy arrays\n",
    "def makeVideoNumpy(videos):\n",
    "    for video in videos:\n",
    "        videodata = skvideo.io.vread(video)  \n",
    "        print(videodata.shape)"
   ]
  }
 ],
 "metadata": {
  "kernelspec": {
   "display_name": "Python 3",
   "language": "python",
   "name": "python3"
  },
  "language_info": {
   "codemirror_mode": {
    "name": "ipython",
    "version": 3
   },
   "file_extension": ".py",
   "mimetype": "text/x-python",
   "name": "python",
   "nbconvert_exporter": "python",
   "pygments_lexer": "ipython3",
   "version": "3.5.2"
  }
 },
 "nbformat": 4,
 "nbformat_minor": 2
}
